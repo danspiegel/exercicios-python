{
 "cells": [
  {
   "cell_type": "code",
   "execution_count": null,
   "metadata": {},
   "outputs": [],
   "source": [
    "#### Exercício 1 ####"
   ]
  },
  {
   "cell_type": "code",
   "execution_count": 2,
   "metadata": {},
   "outputs": [
    {
     "data": {
      "text/plain": [
       "'exercicio1.html'"
      ]
     },
     "execution_count": 2,
     "metadata": {},
     "output_type": "execute_result"
    }
   ],
   "source": [
    "import numpy as np\n",
    "import matplotlib.pyplot as plt\n",
    "import plotly.offline as pyo\n",
    "import plotly.graph_objs as go\n",
    "%matplotlib inline\n",
    "\n",
    "random_x = np.random.randn(1000)\n",
    "random_y = np.random.rand(1000)\n",
    "\n",
    "data = [go.Scatter(\n",
    "x = random_x,\n",
    "y = random_y,\n",
    "mode = 'markers',\n",
    "marker = dict(\n",
    "size = 8\n",
    ")\n",
    ")]\n",
    "\n",
    "layout = go.Layout(\n",
    "title='Random Data Scatterplot'\n",
    ")\n",
    "fig = go.Figure(data=data, layout=layout)\n",
    "pyo.plot(fig, filename='exercicio1.html')\n",
    "\n"
   ]
  },
  {
   "cell_type": "code",
   "execution_count": 34,
   "metadata": {},
   "outputs": [],
   "source": [
    "#### Exercício 2 ####"
   ]
  },
  {
   "cell_type": "code",
   "execution_count": 2,
   "metadata": {},
   "outputs": [
    {
     "data": {
      "text/plain": [
       "'exercicio2.html'"
      ]
     },
     "execution_count": 2,
     "metadata": {},
     "output_type": "execute_result"
    }
   ],
   "source": [
    "import numpy as np\n",
    "import pandas as pd\n",
    "import matplotlib.pyplot as plt\n",
    "import plotly.offline as pyo\n",
    "import plotly.graph_objs as go\n",
    "%matplotlib inline\n",
    "\n",
    "df = pd.read_csv(\"C:/Lista_6_Juliana_Gomes/2010YumaAZ.csv\")\n",
    "\n",
    "trace0 = go.Scatter(\n",
    "x = df.query('DAY == \"TUESDAY\"')['LST_TIME'],\n",
    "y = df.query('DAY == \"TUESDAY\"')['T_HR_AVG'],\n",
    "mode = 'lines',\n",
    "name = 'TUESDAY'\n",
    ")\n",
    "trace1 = go.Scatter(\n",
    "x = df.query('DAY == \"WEDNESDAY\"')['LST_TIME'],\n",
    "y = df.query('DAY == \"WEDNESDAY\"')['T_HR_AVG'],\n",
    "mode = 'lines',\n",
    "name = 'WEDNESDAY'\n",
    ")\n",
    "trace2 = go.Scatter(\n",
    "x = df.query('DAY == \"THURSDAY\"')['LST_TIME'],\n",
    "y = df.query('DAY == \"THURSDAY\"')['T_HR_AVG'],\n",
    "mode = 'lines',\n",
    "name = 'THURSDAY'\n",
    ")\n",
    "trace3 = go.Scatter(\n",
    "x = df.query('DAY == \"FRIDAY\"')['LST_TIME'],\n",
    "y = df.query('DAY == \"FRIDAY\"')['T_HR_AVG'],\n",
    "mode = 'lines',\n",
    "name = 'FRIDAY'\n",
    ")\n",
    "trace4 = go.Scatter(\n",
    "x = df.query('DAY == \"SATURDAY\"')['LST_TIME'],\n",
    "y = df.query('DAY == \"SATURDAY\"')['T_HR_AVG'],\n",
    "mode = 'lines',\n",
    "name = 'SATURDAY'\n",
    ")\n",
    "trace5 = go.Scatter(\n",
    "x = df.query('DAY == \"SUNDAY\"')['LST_TIME'],\n",
    "y = df.query('DAY == \"SUNDAY\"')['T_HR_AVG'],\n",
    "mode = 'lines',\n",
    "name = 'SUNDAY'\n",
    ")\n",
    "trace6 = go.Scatter(\n",
    "x = df.query('DAY == \"MONDAY\"')['LST_TIME'],\n",
    "y = df.query('DAY == \"MONDAY\"')['T_HR_AVG'],\n",
    "mode = 'lines',\n",
    "name = 'MONDAY'\n",
    ")\n",
    "data = [trace0, trace1, trace2, trace3, trace4, trace5, trace6]\n",
    "layout = go.Layout(\n",
    "title = 'Daily temperatures from June 1-7, 2010 in Yuma, Arizona'\n",
    ")\n",
    "fig = go.Figure(data=data,layout=layout)\n",
    "pyo.plot(fig, filename='exercicio2.html')"
   ]
  },
  {
   "cell_type": "code",
   "execution_count": null,
   "metadata": {},
   "outputs": [],
   "source": [
    "#### Exercício 3 ####"
   ]
  },
  {
   "cell_type": "code",
   "execution_count": 3,
   "metadata": {},
   "outputs": [
    {
     "data": {
      "text/plain": [
       "'exercicio3.html'"
      ]
     },
     "execution_count": 3,
     "metadata": {},
     "output_type": "execute_result"
    }
   ],
   "source": [
    "import numpy as np\n",
    "import pandas as pd\n",
    "import matplotlib.pyplot as plt\n",
    "import plotly.offline as pyo\n",
    "import plotly.graph_objs as go\n",
    "%matplotlib inline\n",
    "\n",
    "\n",
    "df = pd.read_csv(\"C:/Lista_6_Juliana_Gomes/mocksurvey.csv\")\n",
    "\n",
    "df.rename( columns={'Unnamed: 0':'Indice'}, inplace=True )\n",
    "\n",
    "trace1 = go.Bar(\n",
    "x=df['Indice'],\n",
    "y=df['Strongly Agree'],\n",
    "name = 'Strongly Agree',\n",
    "marker=dict(color='#436EEE')\n",
    ")\n",
    "\n",
    "trace2 = go.Bar(\n",
    "x=df['Indice'],\n",
    "y=df['Somewhat Agree'],\n",
    "name='Somewhat Agree',\n",
    "marker=dict(color='#FF4040')\n",
    ")\n",
    "\n",
    "trace3 = go.Bar(\n",
    "x=df['Indice'],\n",
    "y=df['Neutral'],\n",
    "name='Neutral',\n",
    "marker=dict(color='#43CD80')\n",
    ")\n",
    "\n",
    "trace4 = go.Bar(\n",
    "x=df['Indice'],\n",
    "y=df['Somewhat Disagree'],\n",
    "name='Somewhat Disagree',\n",
    "marker=dict(color='#8968CD')\n",
    ")\n",
    "\n",
    "trace5 = go.Bar(\n",
    "x=df['Indice'],\n",
    "y=df['Strongly Disagree'],\n",
    "name='Strongly Disagree',\n",
    "marker=dict(color='#FFA54F')\n",
    ")\n",
    "\n",
    "data = [trace1, trace2, trace3, trace4, trace5]\n",
    "layout = go.Layout(\n",
    "title='Mock Survey Results',\n",
    "barmode='stack'\n",
    ")\n",
    "fig = go.Figure(data=data, layout=layout)\n",
    "pyo.plot(fig, filename='exercicio3.html')\n",
    "\n"
   ]
  },
  {
   "cell_type": "code",
   "execution_count": null,
   "metadata": {},
   "outputs": [],
   "source": [
    "#### Exercício 4 ####"
   ]
  },
  {
   "cell_type": "code",
   "execution_count": 4,
   "metadata": {},
   "outputs": [
    {
     "data": {
      "text/plain": [
       "'exercicio4.html'"
      ]
     },
     "execution_count": 4,
     "metadata": {},
     "output_type": "execute_result"
    }
   ],
   "source": [
    "import numpy as np\n",
    "import pandas as pd\n",
    "import matplotlib.pyplot as plt\n",
    "import plotly.offline as pyo\n",
    "import plotly.graph_objs as go\n",
    "%matplotlib inline\n",
    "\n",
    "df = pd.read_csv(\"C:/Lista_6_Juliana_Gomes/mpg.csv\")\n",
    "\n",
    "data = [go.Scatter(\n",
    "x=df['horsepower'],\n",
    "y=df['weight'],\n",
    "text=df['name'],\n",
    "mode='markers',\n",
    "marker=dict(size=1.5*df['cylinders'])\n",
    "\n",
    ")]\n",
    "layout = go.Layout(\n",
    "title='Vehicle weight vs. horsepower',\n",
    "xaxis = dict(title = 'horsepower'),\n",
    "yaxis = dict(title = 'weight'),\n",
    "hovermode='closest'\n",
    ")\n",
    "fig = go.Figure(data=data, layout=layout)\n",
    "pyo.plot(fig, filename='exercicio4.html')\n"
   ]
  },
  {
   "cell_type": "code",
   "execution_count": null,
   "metadata": {},
   "outputs": [],
   "source": [
    "#### Exercício 5 ####"
   ]
  },
  {
   "cell_type": "code",
   "execution_count": 5,
   "metadata": {},
   "outputs": [
    {
     "data": {
      "text/plain": [
       "'exercicio5.html'"
      ]
     },
     "execution_count": 5,
     "metadata": {},
     "output_type": "execute_result"
    }
   ],
   "source": [
    "import numpy as np\n",
    "import pandas as pd\n",
    "import matplotlib.pyplot as plt\n",
    "import plotly.offline as pyo\n",
    "import plotly.graph_objs as go\n",
    "%matplotlib inline\n",
    "\n",
    "df = pd.read_csv(\"C:/Lista_6_Juliana_Gomes/abalone.csv\")\n",
    "\n",
    "data = [go.Histogram(\n",
    "x=df['length'],\n",
    "xbins=dict(start=0,end=1,size=0.02)\n",
    ")]\n",
    "layout = go.Layout(\n",
    "title='Shell lengths from the Abalone dataset'\n",
    ")\n",
    "fig = go.Figure(data=data, layout=layout)\n",
    "pyo.plot(fig, filename='exercicio5.html')\n"
   ]
  },
  {
   "cell_type": "code",
   "execution_count": null,
   "metadata": {},
   "outputs": [],
   "source": [
    "#### Exercício 6 ####"
   ]
  },
  {
   "cell_type": "code",
   "execution_count": 6,
   "metadata": {},
   "outputs": [
    {
     "data": {
      "text/plain": [
       "'exercicio6.html'"
      ]
     },
     "execution_count": 6,
     "metadata": {},
     "output_type": "execute_result"
    }
   ],
   "source": [
    "import plotly.offline as pyo\n",
    "import plotly.figure_factory as ff\n",
    "import numpy as np\n",
    "\n",
    "df = pd.read_csv(\"C:/Lista_6_Juliana_Gomes/iris.csv\")\n",
    "\n",
    "x1 = df.query('species == \"virginica\"')['petal_length']\n",
    "x2 = df.query('species == \"versicolor\"')['petal_length']\n",
    "x3 = df.query('species == \"setosa\"')['petal_length']\n",
    "hist_data = [x3,x2,x1]\n",
    "group_labels = ['Iris Setosa','Iris Versicolor','Iris Virginica']\n",
    "fig = ff.create_distplot(hist_data, group_labels)\n",
    "pyo.plot(fig, filename='exercicio6.html')\n",
    "\n"
   ]
  },
  {
   "cell_type": "code",
   "execution_count": 3,
   "metadata": {},
   "outputs": [],
   "source": [
    "#### Exercício 7 ####"
   ]
  },
  {
   "cell_type": "code",
   "execution_count": 9,
   "metadata": {},
   "outputs": [
    {
     "data": {
      "text/plain": [
       "'exercicio7.html'"
      ]
     },
     "execution_count": 9,
     "metadata": {},
     "output_type": "execute_result"
    }
   ],
   "source": [
    "import pandas as pd\n",
    "import matplotlib.pyplot as plt\n",
    "import plotly.offline as pyo\n",
    "import plotly.graph_objs as go\n",
    "import numpy as np; np.random.seed(0)\n",
    "import seaborn as sns; sns.set()\n",
    "\n",
    "df = sns.load_dataset(\"flights\")\n",
    "\n",
    "data = [go.Heatmap(\n",
    "x=df['year'],\n",
    "y=df['month'],\n",
    "z=df['passengers'].values.tolist()\n",
    ")]\n",
    "layout = go.Layout(\n",
    "title='Flights'\n",
    ")\n",
    "fig = go.Figure(data=data, layout=layout)\n",
    "pyo.plot(fig, filename='exercicio7.html')\n"
   ]
  },
  {
   "cell_type": "code",
   "execution_count": null,
   "metadata": {},
   "outputs": [],
   "source": []
  }
 ],
 "metadata": {
  "kernelspec": {
   "display_name": "Python 3",
   "language": "python",
   "name": "python3"
  },
  "language_info": {
   "codemirror_mode": {
    "name": "ipython",
    "version": 3
   },
   "file_extension": ".py",
   "mimetype": "text/x-python",
   "name": "python",
   "nbconvert_exporter": "python",
   "pygments_lexer": "ipython3",
   "version": "3.7.6"
  }
 },
 "nbformat": 4,
 "nbformat_minor": 4
}
